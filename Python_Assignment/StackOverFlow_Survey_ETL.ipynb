{
 "cells": [
  {
   "cell_type": "markdown",
   "id": "2d98aab4",
   "metadata": {},
   "source": [
    "# Loading Data"
   ]
  },
  {
   "cell_type": "code",
   "execution_count": 1,
   "id": "d7810630",
   "metadata": {},
   "outputs": [],
   "source": [
    "#Importing Libraries\n",
    "import pandas as pd\n",
    "import numpy as np"
   ]
  },
  {
   "cell_type": "code",
   "execution_count": 2,
   "id": "4de497b2",
   "metadata": {},
   "outputs": [],
   "source": [
    "#Reading File\n",
    "data=pd.read_csv(\"survey_results_public.csv\")"
   ]
  },
  {
   "cell_type": "markdown",
   "id": "ac0e8992",
   "metadata": {},
   "source": [
    "# Basic Exploration"
   ]
  },
  {
   "cell_type": "code",
   "execution_count": 3,
   "id": "226a863c",
   "metadata": {},
   "outputs": [
    {
     "data": {
      "text/html": [
       "<div>\n",
       "<style scoped>\n",
       "    .dataframe tbody tr th:only-of-type {\n",
       "        vertical-align: middle;\n",
       "    }\n",
       "\n",
       "    .dataframe tbody tr th {\n",
       "        vertical-align: top;\n",
       "    }\n",
       "\n",
       "    .dataframe thead th {\n",
       "        text-align: right;\n",
       "    }\n",
       "</style>\n",
       "<table border=\"1\" class=\"dataframe\">\n",
       "  <thead>\n",
       "    <tr style=\"text-align: right;\">\n",
       "      <th></th>\n",
       "      <th>Respondent</th>\n",
       "      <th>MainBranch</th>\n",
       "      <th>Hobbyist</th>\n",
       "      <th>OpenSourcer</th>\n",
       "      <th>OpenSource</th>\n",
       "      <th>Employment</th>\n",
       "      <th>Country</th>\n",
       "      <th>Student</th>\n",
       "      <th>EdLevel</th>\n",
       "      <th>UndergradMajor</th>\n",
       "      <th>...</th>\n",
       "      <th>WelcomeChange</th>\n",
       "      <th>SONewContent</th>\n",
       "      <th>Age</th>\n",
       "      <th>Gender</th>\n",
       "      <th>Trans</th>\n",
       "      <th>Sexuality</th>\n",
       "      <th>Ethnicity</th>\n",
       "      <th>Dependents</th>\n",
       "      <th>SurveyLength</th>\n",
       "      <th>SurveyEase</th>\n",
       "    </tr>\n",
       "  </thead>\n",
       "  <tbody>\n",
       "    <tr>\n",
       "      <th>0</th>\n",
       "      <td>1</td>\n",
       "      <td>I am a student who is learning to code</td>\n",
       "      <td>Yes</td>\n",
       "      <td>Never</td>\n",
       "      <td>The quality of OSS and closed source software ...</td>\n",
       "      <td>Not employed, and not looking for work</td>\n",
       "      <td>United Kingdom</td>\n",
       "      <td>No</td>\n",
       "      <td>Primary/elementary school</td>\n",
       "      <td>NaN</td>\n",
       "      <td>...</td>\n",
       "      <td>Just as welcome now as I felt last year</td>\n",
       "      <td>Tech articles written by other developers;Indu...</td>\n",
       "      <td>14.0</td>\n",
       "      <td>Man</td>\n",
       "      <td>No</td>\n",
       "      <td>Straight / Heterosexual</td>\n",
       "      <td>NaN</td>\n",
       "      <td>No</td>\n",
       "      <td>Appropriate in length</td>\n",
       "      <td>Neither easy nor difficult</td>\n",
       "    </tr>\n",
       "    <tr>\n",
       "      <th>1</th>\n",
       "      <td>2</td>\n",
       "      <td>I am a student who is learning to code</td>\n",
       "      <td>No</td>\n",
       "      <td>Less than once per year</td>\n",
       "      <td>The quality of OSS and closed source software ...</td>\n",
       "      <td>Not employed, but looking for work</td>\n",
       "      <td>Bosnia and Herzegovina</td>\n",
       "      <td>Yes, full-time</td>\n",
       "      <td>Secondary school (e.g. American high school, G...</td>\n",
       "      <td>NaN</td>\n",
       "      <td>...</td>\n",
       "      <td>Just as welcome now as I felt last year</td>\n",
       "      <td>Tech articles written by other developers;Indu...</td>\n",
       "      <td>19.0</td>\n",
       "      <td>Man</td>\n",
       "      <td>No</td>\n",
       "      <td>Straight / Heterosexual</td>\n",
       "      <td>NaN</td>\n",
       "      <td>No</td>\n",
       "      <td>Appropriate in length</td>\n",
       "      <td>Neither easy nor difficult</td>\n",
       "    </tr>\n",
       "  </tbody>\n",
       "</table>\n",
       "<p>2 rows × 85 columns</p>\n",
       "</div>"
      ],
      "text/plain": [
       "   Respondent                              MainBranch Hobbyist  \\\n",
       "0           1  I am a student who is learning to code      Yes   \n",
       "1           2  I am a student who is learning to code       No   \n",
       "\n",
       "               OpenSourcer                                         OpenSource  \\\n",
       "0                    Never  The quality of OSS and closed source software ...   \n",
       "1  Less than once per year  The quality of OSS and closed source software ...   \n",
       "\n",
       "                               Employment                 Country  \\\n",
       "0  Not employed, and not looking for work          United Kingdom   \n",
       "1      Not employed, but looking for work  Bosnia and Herzegovina   \n",
       "\n",
       "          Student                                            EdLevel  \\\n",
       "0              No                          Primary/elementary school   \n",
       "1  Yes, full-time  Secondary school (e.g. American high school, G...   \n",
       "\n",
       "  UndergradMajor  ...                            WelcomeChange  \\\n",
       "0            NaN  ...  Just as welcome now as I felt last year   \n",
       "1            NaN  ...  Just as welcome now as I felt last year   \n",
       "\n",
       "                                        SONewContent   Age Gender Trans  \\\n",
       "0  Tech articles written by other developers;Indu...  14.0    Man    No   \n",
       "1  Tech articles written by other developers;Indu...  19.0    Man    No   \n",
       "\n",
       "                 Sexuality Ethnicity Dependents           SurveyLength  \\\n",
       "0  Straight / Heterosexual       NaN         No  Appropriate in length   \n",
       "1  Straight / Heterosexual       NaN         No  Appropriate in length   \n",
       "\n",
       "                   SurveyEase  \n",
       "0  Neither easy nor difficult  \n",
       "1  Neither easy nor difficult  \n",
       "\n",
       "[2 rows x 85 columns]"
      ]
     },
     "execution_count": 3,
     "metadata": {},
     "output_type": "execute_result"
    }
   ],
   "source": [
    "#First 5 rows\n",
    "data.head(2)"
   ]
  },
  {
   "cell_type": "markdown",
   "id": "87b48bba",
   "metadata": {},
   "source": [
    "# ETL Questions"
   ]
  },
  {
   "cell_type": "markdown",
   "id": "d2989f27",
   "metadata": {},
   "source": [
    "### Find the average age of developers when they wrote their first line of code."
   ]
  },
  {
   "cell_type": "code",
   "execution_count": 4,
   "id": "0264a598",
   "metadata": {},
   "outputs": [],
   "source": [
    "#changing the data type to string\n",
    "data[\"Age1stCode\"]=data[\"Age1stCode\"].astype(str)"
   ]
  },
  {
   "cell_type": "code",
   "execution_count": 5,
   "id": "5418734c",
   "metadata": {},
   "outputs": [],
   "source": [
    "#Definig a function to filter out strings\n",
    "def age(row):\n",
    "    for value in row.split():\n",
    "        if value.isdigit():\n",
    "            return value\n",
    "        else:\n",
    "            return 0"
   ]
  },
  {
   "cell_type": "code",
   "execution_count": 6,
   "id": "53aca2cd",
   "metadata": {},
   "outputs": [],
   "source": [
    "data[\"Age1stCode\"] = data[\"Age1stCode\"].apply(lambda row: age(row))"
   ]
  },
  {
   "cell_type": "code",
   "execution_count": 7,
   "id": "f675522b",
   "metadata": {},
   "outputs": [],
   "source": [
    "#Changing Data types\n",
    "data[\"Age1stCode\"] = pd.to_numeric(data[\"Age1stCode\"], downcast=\"float\")"
   ]
  },
  {
   "cell_type": "code",
   "execution_count": 8,
   "id": "e0b5667c",
   "metadata": {},
   "outputs": [
    {
     "data": {
      "text/plain": [
       "dtype('float32')"
      ]
     },
     "execution_count": 8,
     "metadata": {},
     "output_type": "execute_result"
    }
   ],
   "source": [
    "#re checking data type \n",
    "data[\"Age1stCode\"].dtype"
   ]
  },
  {
   "cell_type": "code",
   "execution_count": 9,
   "id": "4174fdea",
   "metadata": {},
   "outputs": [
    {
     "name": "stdout",
     "output_type": "stream",
     "text": [
      "Average age of developers when they wrote their first line of code 15.14\n"
     ]
    }
   ],
   "source": [
    "#findng the avg\n",
    "avg_age_of_first_line_of_code = data[\"Age1stCode\"].mean()\n",
    "\n",
    "#printing the result\n",
    "print(\"Average age of developers when they wrote their first line of code\", round(avg_age_of_first_line_of_code, 2))"
   ]
  },
  {
   "cell_type": "markdown",
   "id": "a9f78a6a",
   "metadata": {},
   "source": [
    "### Deduce the percentage of developers who knew python in each country"
   ]
  },
  {
   "cell_type": "code",
   "execution_count": 10,
   "id": "469fc5d9",
   "metadata": {},
   "outputs": [],
   "source": [
    "#creating a new column from languages worked with\n",
    "data['Language'] = data[\"LanguageWorkedWith\"].str.split(\";\")"
   ]
  },
  {
   "cell_type": "code",
   "execution_count": 11,
   "id": "aa57d056",
   "metadata": {},
   "outputs": [],
   "source": [
    "#dropping the languages column\n",
    "data=data.drop(['LanguageWorkedWith'], axis=1)"
   ]
  },
  {
   "cell_type": "code",
   "execution_count": 12,
   "id": "800c5a8c",
   "metadata": {},
   "outputs": [],
   "source": [
    "#Filling the NaN values with value \"Others\"\n",
    "data['Language']=data['Language'].replace(np.nan, \"Others\")"
   ]
  },
  {
   "cell_type": "code",
   "execution_count": 13,
   "id": "4f1e5568",
   "metadata": {},
   "outputs": [],
   "source": [
    "#defining a function to see if Python is present in the Lannguage column or not\n",
    "def python(row):\n",
    "    if \"Python\" in row:\n",
    "        return 'Yes'\n",
    "    else:\n",
    "        return 'No'"
   ]
  },
  {
   "cell_type": "code",
   "execution_count": 14,
   "id": "51109bf1",
   "metadata": {},
   "outputs": [],
   "source": [
    "#Applying the above defined function\n",
    "data[\"Python\"]= data[\"Language\"].apply (lambda row: python(row))"
   ]
  },
  {
   "cell_type": "code",
   "execution_count": 15,
   "id": "b0205e13",
   "metadata": {},
   "outputs": [],
   "source": [
    "#Filtering out developers who know Python\n",
    "data_python = data[data[\"MainBranch\"]== \"I am a developer by profession\"]"
   ]
  },
  {
   "cell_type": "code",
   "execution_count": 16,
   "id": "6b63394a",
   "metadata": {},
   "outputs": [],
   "source": [
    "#respondants who are developers \n",
    "developers = data_python[[\"Country\", \"Python\"]]\n",
    "developer_worked_with_python = developers[developers[\"Python\"]==\"Yes\"]"
   ]
  },
  {
   "cell_type": "code",
   "execution_count": 17,
   "id": "1dbc5345",
   "metadata": {},
   "outputs": [],
   "source": [
    "#grouping developers by country\n",
    "developers = developers.groupby([\"Country\"]).count()"
   ]
  },
  {
   "cell_type": "code",
   "execution_count": 18,
   "id": "3b5175b6",
   "metadata": {},
   "outputs": [],
   "source": [
    "#grouping developers who worked with python by country\n",
    "developer_worked_with_python = developer_worked_with_python.groupby([\"Country\"]).count()"
   ]
  },
  {
   "cell_type": "code",
   "execution_count": 19,
   "id": "1d0f56cc",
   "metadata": {},
   "outputs": [],
   "source": [
    "#percentage of developers who knew python in each country\n",
    "percent_of_developers_in_each_country = developer_worked_with_python/developers*100"
   ]
  },
  {
   "cell_type": "code",
   "execution_count": 20,
   "id": "3a051a76",
   "metadata": {},
   "outputs": [
    {
     "data": {
      "text/html": [
       "<div>\n",
       "<style scoped>\n",
       "    .dataframe tbody tr th:only-of-type {\n",
       "        vertical-align: middle;\n",
       "    }\n",
       "\n",
       "    .dataframe tbody tr th {\n",
       "        vertical-align: top;\n",
       "    }\n",
       "\n",
       "    .dataframe thead th {\n",
       "        text-align: right;\n",
       "    }\n",
       "</style>\n",
       "<table border=\"1\" class=\"dataframe\">\n",
       "  <thead>\n",
       "    <tr style=\"text-align: right;\">\n",
       "      <th></th>\n",
       "      <th>Python</th>\n",
       "    </tr>\n",
       "    <tr>\n",
       "      <th>Country</th>\n",
       "      <th></th>\n",
       "    </tr>\n",
       "  </thead>\n",
       "  <tbody>\n",
       "    <tr>\n",
       "      <th>Afghanistan</th>\n",
       "      <td>4.000000</td>\n",
       "    </tr>\n",
       "    <tr>\n",
       "      <th>Albania</th>\n",
       "      <td>23.880597</td>\n",
       "    </tr>\n",
       "    <tr>\n",
       "      <th>Algeria</th>\n",
       "      <td>32.142857</td>\n",
       "    </tr>\n",
       "    <tr>\n",
       "      <th>Andorra</th>\n",
       "      <td>NaN</td>\n",
       "    </tr>\n",
       "    <tr>\n",
       "      <th>Angola</th>\n",
       "      <td>50.000000</td>\n",
       "    </tr>\n",
       "    <tr>\n",
       "      <th>...</th>\n",
       "      <td>...</td>\n",
       "    </tr>\n",
       "    <tr>\n",
       "      <th>Venezuela, Bolivarian Republic of...</th>\n",
       "      <td>26.666667</td>\n",
       "    </tr>\n",
       "    <tr>\n",
       "      <th>Viet Nam</th>\n",
       "      <td>33.576642</td>\n",
       "    </tr>\n",
       "    <tr>\n",
       "      <th>Yemen</th>\n",
       "      <td>30.000000</td>\n",
       "    </tr>\n",
       "    <tr>\n",
       "      <th>Zambia</th>\n",
       "      <td>60.000000</td>\n",
       "    </tr>\n",
       "    <tr>\n",
       "      <th>Zimbabwe</th>\n",
       "      <td>22.222222</td>\n",
       "    </tr>\n",
       "  </tbody>\n",
       "</table>\n",
       "<p>170 rows × 1 columns</p>\n",
       "</div>"
      ],
      "text/plain": [
       "                                         Python\n",
       "Country                                        \n",
       "Afghanistan                            4.000000\n",
       "Albania                               23.880597\n",
       "Algeria                               32.142857\n",
       "Andorra                                     NaN\n",
       "Angola                                50.000000\n",
       "...                                         ...\n",
       "Venezuela, Bolivarian Republic of...  26.666667\n",
       "Viet Nam                              33.576642\n",
       "Yemen                                 30.000000\n",
       "Zambia                                60.000000\n",
       "Zimbabwe                              22.222222\n",
       "\n",
       "[170 rows x 1 columns]"
      ]
     },
     "execution_count": 20,
     "metadata": {},
     "output_type": "execute_result"
    }
   ],
   "source": [
    "#result\n",
    "percent_of_developers_in_each_country"
   ]
  },
  {
   "cell_type": "markdown",
   "id": "93774f15",
   "metadata": {},
   "source": [
    "### Generate the report for the average salary of developers based on the continent."
   ]
  },
  {
   "cell_type": "code",
   "execution_count": 21,
   "id": "59f0c3e0",
   "metadata": {},
   "outputs": [],
   "source": [
    "#changing data type to string\n",
    "data[\"Country\"]=data['Country'].astype('str')"
   ]
  },
  {
   "cell_type": "code",
   "execution_count": 22,
   "id": "c02db5db",
   "metadata": {},
   "outputs": [],
   "source": [
    "#filtering out oulier behavior\n",
    "data = data[data[\"Country\"]!= 'Other Country (Not Listed Above)']"
   ]
  },
  {
   "cell_type": "code",
   "execution_count": 23,
   "id": "bb3d34c3",
   "metadata": {},
   "outputs": [],
   "source": [
    "# Add Continent Column \n",
    "continent=pd.read_csv(\"countryContinent.csv\")\n",
    "data = data.merge(continent, how =\"left\", on=[\"Country\"])"
   ]
  },
  {
   "cell_type": "code",
   "execution_count": 24,
   "id": "30dc9edf",
   "metadata": {},
   "outputs": [],
   "source": [
    "#filtering out developers\n",
    "data_developers=data[data[\"MainBranch\"]== \"I am a developer by profession\"]"
   ]
  },
  {
   "cell_type": "code",
   "execution_count": 25,
   "id": "0110ee8e",
   "metadata": {},
   "outputs": [],
   "source": [
    "#selecting salary and continent columns\n",
    "data_developers= data_developers[['ConvertedComp', 'Continent']]"
   ]
  },
  {
   "cell_type": "code",
   "execution_count": 26,
   "id": "7a6a0bee",
   "metadata": {},
   "outputs": [],
   "source": [
    "#grouping based on continent with average salary\n",
    "avg_salary=data_developers.groupby(['Continent']).mean()"
   ]
  },
  {
   "cell_type": "code",
   "execution_count": 27,
   "id": "964cf7e3",
   "metadata": {},
   "outputs": [],
   "source": [
    "#renaming column\n",
    "avg_salary=avg_salary.rename(columns={'ConvertedComp':'Avg_Salary_in USD'})"
   ]
  },
  {
   "cell_type": "code",
   "execution_count": 28,
   "id": "5dfd34b2",
   "metadata": {},
   "outputs": [
    {
     "data": {
      "text/html": [
       "<div>\n",
       "<style scoped>\n",
       "    .dataframe tbody tr th:only-of-type {\n",
       "        vertical-align: middle;\n",
       "    }\n",
       "\n",
       "    .dataframe tbody tr th {\n",
       "        vertical-align: top;\n",
       "    }\n",
       "\n",
       "    .dataframe thead th {\n",
       "        text-align: right;\n",
       "    }\n",
       "</style>\n",
       "<table border=\"1\" class=\"dataframe\">\n",
       "  <thead>\n",
       "    <tr style=\"text-align: right;\">\n",
       "      <th></th>\n",
       "      <th>Avg_Salary_in USD</th>\n",
       "    </tr>\n",
       "    <tr>\n",
       "      <th>Continent</th>\n",
       "      <th></th>\n",
       "    </tr>\n",
       "  </thead>\n",
       "  <tbody>\n",
       "    <tr>\n",
       "      <th>Africa</th>\n",
       "      <td>34818.760538</td>\n",
       "    </tr>\n",
       "    <tr>\n",
       "      <th>Asia</th>\n",
       "      <td>36613.710443</td>\n",
       "    </tr>\n",
       "    <tr>\n",
       "      <th>Europe</th>\n",
       "      <td>99779.188906</td>\n",
       "    </tr>\n",
       "    <tr>\n",
       "      <th>North America</th>\n",
       "      <td>227745.883865</td>\n",
       "    </tr>\n",
       "    <tr>\n",
       "      <th>Oceania</th>\n",
       "      <td>167614.534447</td>\n",
       "    </tr>\n",
       "    <tr>\n",
       "      <th>South America</th>\n",
       "      <td>33338.938628</td>\n",
       "    </tr>\n",
       "  </tbody>\n",
       "</table>\n",
       "</div>"
      ],
      "text/plain": [
       "               Avg_Salary_in USD\n",
       "Continent                       \n",
       "Africa              34818.760538\n",
       "Asia                36613.710443\n",
       "Europe              99779.188906\n",
       "North America      227745.883865\n",
       "Oceania            167614.534447\n",
       "South America       33338.938628"
      ]
     },
     "execution_count": 28,
     "metadata": {},
     "output_type": "execute_result"
    }
   ],
   "source": [
    "#result\n",
    "avg_salary"
   ]
  },
  {
   "cell_type": "markdown",
   "id": "c1df7332",
   "metadata": {},
   "source": [
    "### Based on this survey, what will be the most desired programming language for the year 2020?"
   ]
  },
  {
   "cell_type": "code",
   "execution_count": 29,
   "id": "5c59d1e9",
   "metadata": {},
   "outputs": [],
   "source": [
    "#converting the list of values in Langauge column to individual rows\n",
    "data_pgrm = data.explode('Language')"
   ]
  },
  {
   "cell_type": "code",
   "execution_count": 30,
   "id": "d3dc77e5",
   "metadata": {},
   "outputs": [
    {
     "data": {
      "text/plain": [
       "<AxesSubplot:>"
      ]
     },
     "execution_count": 30,
     "metadata": {},
     "output_type": "execute_result"
    },
    {
     "data": {
      "image/png": "[encoded data removed]",
      "text/plain": [
       "<Figure size 1080x504 with 1 Axes>"
      ]
     },
     "metadata": {
      "needs_background": "light"
     },
     "output_type": "display_data"
    }
   ],
   "source": [
    "#ploting a barplot of the counts of each language\n",
    "data_pgrm['Language'].value_counts().plot(kind=\"bar\", figsize=(15,7))"
   ]
  },
  {
   "cell_type": "markdown",
   "id": "de2d7179",
   "metadata": {},
   "source": [
    "### Generate the report for the people who code as a hobby based on their gender and continent."
   ]
  },
  {
   "cell_type": "code",
   "execution_count": 31,
   "id": "12785154",
   "metadata": {},
   "outputs": [],
   "source": [
    "#defining a function\n",
    "def gender(row):\n",
    "    if row == \"Man\":\n",
    "        return \"Man\"\n",
    "    if row == \"Woman\":\n",
    "        return \"Woman\"\n",
    "    else:\n",
    "        return \"Others\""
   ]
  },
  {
   "cell_type": "code",
   "execution_count": 32,
   "id": "91bb70d9",
   "metadata": {},
   "outputs": [],
   "source": [
    "#applying the function to gender column\n",
    "data[\"Gender\"]=data[\"Gender\"].apply(gender)"
   ]
  },
  {
   "cell_type": "code",
   "execution_count": 33,
   "id": "212a048a",
   "metadata": {},
   "outputs": [],
   "source": [
    "#filtering out respondants who do coding as a hobby\n",
    "data_hobby=data[data[\"Hobbyist\"]=='Yes']"
   ]
  },
  {
   "cell_type": "code",
   "execution_count": 34,
   "id": "dae810eb",
   "metadata": {},
   "outputs": [],
   "source": [
    "#grouping data based on continent and gender\n",
    "continent_gender=data.groupby([\"Continent\",\"Gender\"]).agg({'Hobbyist':'count'})\n",
    "\n",
    "#grouping data of repondents who do coding as hobby based on continent and gender\n",
    "continent_gender_hobby=data_hobby.groupby([\"Continent\",\"Gender\"]).agg({'Hobbyist':'count'})"
   ]
  },
  {
   "cell_type": "code",
   "execution_count": 35,
   "id": "ef305ab6",
   "metadata": {},
   "outputs": [
    {
     "data": {
      "text/html": [
       "<div>\n",
       "<style scoped>\n",
       "    .dataframe tbody tr th:only-of-type {\n",
       "        vertical-align: middle;\n",
       "    }\n",
       "\n",
       "    .dataframe tbody tr th {\n",
       "        vertical-align: top;\n",
       "    }\n",
       "\n",
       "    .dataframe thead th {\n",
       "        text-align: right;\n",
       "    }\n",
       "</style>\n",
       "<table border=\"1\" class=\"dataframe\">\n",
       "  <thead>\n",
       "    <tr style=\"text-align: right;\">\n",
       "      <th></th>\n",
       "      <th></th>\n",
       "      <th>Hobbyist</th>\n",
       "    </tr>\n",
       "    <tr>\n",
       "      <th>Continent</th>\n",
       "      <th>Gender</th>\n",
       "      <th></th>\n",
       "    </tr>\n",
       "  </thead>\n",
       "  <tbody>\n",
       "    <tr>\n",
       "      <th rowspan=\"3\" valign=\"top\">Africa</th>\n",
       "      <th>Man</th>\n",
       "      <td>79.905741</td>\n",
       "    </tr>\n",
       "    <tr>\n",
       "      <th>Others</th>\n",
       "      <td>81.538462</td>\n",
       "    </tr>\n",
       "    <tr>\n",
       "      <th>Woman</th>\n",
       "      <td>64.397906</td>\n",
       "    </tr>\n",
       "    <tr>\n",
       "      <th rowspan=\"3\" valign=\"top\">Asia</th>\n",
       "      <th>Man</th>\n",
       "      <td>79.101597</td>\n",
       "    </tr>\n",
       "    <tr>\n",
       "      <th>Others</th>\n",
       "      <td>77.860327</td>\n",
       "    </tr>\n",
       "    <tr>\n",
       "      <th>Woman</th>\n",
       "      <td>65.024233</td>\n",
       "    </tr>\n",
       "    <tr>\n",
       "      <th rowspan=\"3\" valign=\"top\">Europe</th>\n",
       "      <th>Man</th>\n",
       "      <td>83.275058</td>\n",
       "    </tr>\n",
       "    <tr>\n",
       "      <th>Others</th>\n",
       "      <td>83.271923</td>\n",
       "    </tr>\n",
       "    <tr>\n",
       "      <th>Woman</th>\n",
       "      <td>64.813039</td>\n",
       "    </tr>\n",
       "    <tr>\n",
       "      <th rowspan=\"3\" valign=\"top\">North America</th>\n",
       "      <th>Man</th>\n",
       "      <td>82.162312</td>\n",
       "    </tr>\n",
       "    <tr>\n",
       "      <th>Others</th>\n",
       "      <td>80.190058</td>\n",
       "    </tr>\n",
       "    <tr>\n",
       "      <th>Woman</th>\n",
       "      <td>61.485390</td>\n",
       "    </tr>\n",
       "    <tr>\n",
       "      <th rowspan=\"3\" valign=\"top\">Oceania</th>\n",
       "      <th>Man</th>\n",
       "      <td>83.333333</td>\n",
       "    </tr>\n",
       "    <tr>\n",
       "      <th>Others</th>\n",
       "      <td>86.923077</td>\n",
       "    </tr>\n",
       "    <tr>\n",
       "      <th>Woman</th>\n",
       "      <td>69.444444</td>\n",
       "    </tr>\n",
       "    <tr>\n",
       "      <th rowspan=\"3\" valign=\"top\">South America</th>\n",
       "      <th>Man</th>\n",
       "      <td>76.626658</td>\n",
       "    </tr>\n",
       "    <tr>\n",
       "      <th>Others</th>\n",
       "      <td>73.863636</td>\n",
       "    </tr>\n",
       "    <tr>\n",
       "      <th>Woman</th>\n",
       "      <td>59.444444</td>\n",
       "    </tr>\n",
       "  </tbody>\n",
       "</table>\n",
       "</div>"
      ],
      "text/plain": [
       "                       Hobbyist\n",
       "Continent     Gender           \n",
       "Africa        Man     79.905741\n",
       "              Others  81.538462\n",
       "              Woman   64.397906\n",
       "Asia          Man     79.101597\n",
       "              Others  77.860327\n",
       "              Woman   65.024233\n",
       "Europe        Man     83.275058\n",
       "              Others  83.271923\n",
       "              Woman   64.813039\n",
       "North America Man     82.162312\n",
       "              Others  80.190058\n",
       "              Woman   61.485390\n",
       "Oceania       Man     83.333333\n",
       "              Others  86.923077\n",
       "              Woman   69.444444\n",
       "South America Man     76.626658\n",
       "              Others  73.863636\n",
       "              Woman   59.444444"
      ]
     },
     "execution_count": 35,
     "metadata": {},
     "output_type": "execute_result"
    }
   ],
   "source": [
    "# Percentage of respondents with Coding as Hobby By continent and Gender\n",
    "percentage_of_respondents_with_coding_hobby_per_continent = (continent_gender_hobby/continent_gender)*100\n",
    "\n",
    "#result\n",
    "percentage_of_respondents_with_coding_hobby_per_continent"
   ]
  },
  {
   "cell_type": "markdown",
   "id": "fa7a47e1",
   "metadata": {},
   "source": [
    "### Generate the report for job and career satisfaction of developers based on their gender and continent."
   ]
  },
  {
   "cell_type": "code",
   "execution_count": 36,
   "id": "29e12e1a",
   "metadata": {},
   "outputs": [],
   "source": [
    "#filtering out developers\n",
    "data_job_career_sat = data[data[\"MainBranch\"] == \"I am a developer by profession\"]"
   ]
  },
  {
   "cell_type": "code",
   "execution_count": 37,
   "id": "2cc4fe16",
   "metadata": {},
   "outputs": [],
   "source": [
    "#selecting required columns form data\n",
    "data_job_career_sat = data_job_career_sat[['JobSat', \"CareerSat\", \"Gender\", \"Continent\"]]"
   ]
  },
  {
   "cell_type": "code",
   "execution_count": 38,
   "id": "16fd50a1",
   "metadata": {},
   "outputs": [],
   "source": [
    "#grouping data based on continent and gender\n",
    "job_career_sat = data_job_career_sat.groupby([\"Continent\",\"Gender\"])"
   ]
  },
  {
   "cell_type": "code",
   "execution_count": 39,
   "id": "50ef538c",
   "metadata": {},
   "outputs": [
    {
     "data": {
      "text/html": [
       "<div>\n",
       "<style scoped>\n",
       "    .dataframe tbody tr th:only-of-type {\n",
       "        vertical-align: middle;\n",
       "    }\n",
       "\n",
       "    .dataframe tbody tr th {\n",
       "        vertical-align: top;\n",
       "    }\n",
       "\n",
       "    .dataframe thead tr th {\n",
       "        text-align: left;\n",
       "    }\n",
       "\n",
       "    .dataframe thead tr:last-of-type th {\n",
       "        text-align: right;\n",
       "    }\n",
       "</style>\n",
       "<table border=\"1\" class=\"dataframe\">\n",
       "  <thead>\n",
       "    <tr>\n",
       "      <th></th>\n",
       "      <th></th>\n",
       "      <th colspan=\"4\" halign=\"left\">JobSat</th>\n",
       "      <th colspan=\"4\" halign=\"left\">CareerSat</th>\n",
       "    </tr>\n",
       "    <tr>\n",
       "      <th></th>\n",
       "      <th></th>\n",
       "      <th>count</th>\n",
       "      <th>unique</th>\n",
       "      <th>top</th>\n",
       "      <th>freq</th>\n",
       "      <th>count</th>\n",
       "      <th>unique</th>\n",
       "      <th>top</th>\n",
       "      <th>freq</th>\n",
       "    </tr>\n",
       "    <tr>\n",
       "      <th>Continent</th>\n",
       "      <th>Gender</th>\n",
       "      <th></th>\n",
       "      <th></th>\n",
       "      <th></th>\n",
       "      <th></th>\n",
       "      <th></th>\n",
       "      <th></th>\n",
       "      <th></th>\n",
       "      <th></th>\n",
       "    </tr>\n",
       "  </thead>\n",
       "  <tbody>\n",
       "    <tr>\n",
       "      <th rowspan=\"3\" valign=\"top\">Africa</th>\n",
       "      <th>Man</th>\n",
       "      <td>1333</td>\n",
       "      <td>5</td>\n",
       "      <td>Slightly satisfied</td>\n",
       "      <td>460</td>\n",
       "      <td>1453</td>\n",
       "      <td>5</td>\n",
       "      <td>Very satisfied</td>\n",
       "      <td>525</td>\n",
       "    </tr>\n",
       "    <tr>\n",
       "      <th>Others</th>\n",
       "      <td>52</td>\n",
       "      <td>5</td>\n",
       "      <td>Very satisfied</td>\n",
       "      <td>16</td>\n",
       "      <td>62</td>\n",
       "      <td>5</td>\n",
       "      <td>Very satisfied</td>\n",
       "      <td>18</td>\n",
       "    </tr>\n",
       "    <tr>\n",
       "      <th>Woman</th>\n",
       "      <td>104</td>\n",
       "      <td>5</td>\n",
       "      <td>Slightly satisfied</td>\n",
       "      <td>27</td>\n",
       "      <td>108</td>\n",
       "      <td>5</td>\n",
       "      <td>Very satisfied</td>\n",
       "      <td>38</td>\n",
       "    </tr>\n",
       "    <tr>\n",
       "      <th rowspan=\"3\" valign=\"top\">Asia</th>\n",
       "      <th>Man</th>\n",
       "      <td>12076</td>\n",
       "      <td>5</td>\n",
       "      <td>Slightly satisfied</td>\n",
       "      <td>4246</td>\n",
       "      <td>12401</td>\n",
       "      <td>5</td>\n",
       "      <td>Slightly satisfied</td>\n",
       "      <td>4318</td>\n",
       "    </tr>\n",
       "    <tr>\n",
       "      <th>Others</th>\n",
       "      <td>759</td>\n",
       "      <td>5</td>\n",
       "      <td>Slightly satisfied</td>\n",
       "      <td>231</td>\n",
       "      <td>871</td>\n",
       "      <td>5</td>\n",
       "      <td>Very satisfied</td>\n",
       "      <td>268</td>\n",
       "    </tr>\n",
       "    <tr>\n",
       "      <th>Woman</th>\n",
       "      <td>761</td>\n",
       "      <td>5</td>\n",
       "      <td>Slightly satisfied</td>\n",
       "      <td>257</td>\n",
       "      <td>791</td>\n",
       "      <td>5</td>\n",
       "      <td>Slightly satisfied</td>\n",
       "      <td>269</td>\n",
       "    </tr>\n",
       "    <tr>\n",
       "      <th rowspan=\"3\" valign=\"top\">Europe</th>\n",
       "      <th>Man</th>\n",
       "      <td>22780</td>\n",
       "      <td>5</td>\n",
       "      <td>Slightly satisfied</td>\n",
       "      <td>8185</td>\n",
       "      <td>23093</td>\n",
       "      <td>5</td>\n",
       "      <td>Very satisfied</td>\n",
       "      <td>8937</td>\n",
       "    </tr>\n",
       "    <tr>\n",
       "      <th>Others</th>\n",
       "      <td>819</td>\n",
       "      <td>5</td>\n",
       "      <td>Very satisfied</td>\n",
       "      <td>280</td>\n",
       "      <td>865</td>\n",
       "      <td>5</td>\n",
       "      <td>Slightly satisfied</td>\n",
       "      <td>319</td>\n",
       "    </tr>\n",
       "    <tr>\n",
       "      <th>Woman</th>\n",
       "      <td>1419</td>\n",
       "      <td>5</td>\n",
       "      <td>Very satisfied</td>\n",
       "      <td>489</td>\n",
       "      <td>1449</td>\n",
       "      <td>5</td>\n",
       "      <td>Very satisfied</td>\n",
       "      <td>583</td>\n",
       "    </tr>\n",
       "    <tr>\n",
       "      <th rowspan=\"3\" valign=\"top\">North America</th>\n",
       "      <th>Man</th>\n",
       "      <td>16346</td>\n",
       "      <td>5</td>\n",
       "      <td>Very satisfied</td>\n",
       "      <td>6523</td>\n",
       "      <td>16669</td>\n",
       "      <td>5</td>\n",
       "      <td>Very satisfied</td>\n",
       "      <td>8739</td>\n",
       "    </tr>\n",
       "    <tr>\n",
       "      <th>Others</th>\n",
       "      <td>914</td>\n",
       "      <td>5</td>\n",
       "      <td>Very satisfied</td>\n",
       "      <td>315</td>\n",
       "      <td>974</td>\n",
       "      <td>5</td>\n",
       "      <td>Very satisfied</td>\n",
       "      <td>418</td>\n",
       "    </tr>\n",
       "    <tr>\n",
       "      <th>Woman</th>\n",
       "      <td>1676</td>\n",
       "      <td>5</td>\n",
       "      <td>Very satisfied</td>\n",
       "      <td>755</td>\n",
       "      <td>1726</td>\n",
       "      <td>5</td>\n",
       "      <td>Very satisfied</td>\n",
       "      <td>877</td>\n",
       "    </tr>\n",
       "    <tr>\n",
       "      <th rowspan=\"3\" valign=\"top\">Oceania</th>\n",
       "      <th>Man</th>\n",
       "      <td>1617</td>\n",
       "      <td>5</td>\n",
       "      <td>Very satisfied</td>\n",
       "      <td>582</td>\n",
       "      <td>1643</td>\n",
       "      <td>5</td>\n",
       "      <td>Very satisfied</td>\n",
       "      <td>733</td>\n",
       "    </tr>\n",
       "    <tr>\n",
       "      <th>Others</th>\n",
       "      <td>67</td>\n",
       "      <td>5</td>\n",
       "      <td>Very satisfied</td>\n",
       "      <td>21</td>\n",
       "      <td>76</td>\n",
       "      <td>5</td>\n",
       "      <td>Very satisfied</td>\n",
       "      <td>27</td>\n",
       "    </tr>\n",
       "    <tr>\n",
       "      <th>Woman</th>\n",
       "      <td>104</td>\n",
       "      <td>5</td>\n",
       "      <td>Very satisfied</td>\n",
       "      <td>39</td>\n",
       "      <td>106</td>\n",
       "      <td>5</td>\n",
       "      <td>Slightly satisfied</td>\n",
       "      <td>43</td>\n",
       "    </tr>\n",
       "    <tr>\n",
       "      <th rowspan=\"3\" valign=\"top\">South America</th>\n",
       "      <th>Man</th>\n",
       "      <td>2395</td>\n",
       "      <td>5</td>\n",
       "      <td>Slightly satisfied</td>\n",
       "      <td>799</td>\n",
       "      <td>2457</td>\n",
       "      <td>5</td>\n",
       "      <td>Very satisfied</td>\n",
       "      <td>872</td>\n",
       "    </tr>\n",
       "    <tr>\n",
       "      <th>Others</th>\n",
       "      <td>51</td>\n",
       "      <td>5</td>\n",
       "      <td>Slightly satisfied</td>\n",
       "      <td>20</td>\n",
       "      <td>55</td>\n",
       "      <td>5</td>\n",
       "      <td>Slightly satisfied</td>\n",
       "      <td>20</td>\n",
       "    </tr>\n",
       "    <tr>\n",
       "      <th>Woman</th>\n",
       "      <td>127</td>\n",
       "      <td>5</td>\n",
       "      <td>Slightly satisfied</td>\n",
       "      <td>44</td>\n",
       "      <td>135</td>\n",
       "      <td>5</td>\n",
       "      <td>Slightly satisfied</td>\n",
       "      <td>47</td>\n",
       "    </tr>\n",
       "  </tbody>\n",
       "</table>\n",
       "</div>"
      ],
      "text/plain": [
       "                     JobSat                                  CareerSat         \\\n",
       "                      count unique                 top  freq     count unique   \n",
       "Continent     Gender                                                            \n",
       "Africa        Man      1333      5  Slightly satisfied   460      1453      5   \n",
       "              Others     52      5      Very satisfied    16        62      5   \n",
       "              Woman     104      5  Slightly satisfied    27       108      5   \n",
       "Asia          Man     12076      5  Slightly satisfied  4246     12401      5   \n",
       "              Others    759      5  Slightly satisfied   231       871      5   \n",
       "              Woman     761      5  Slightly satisfied   257       791      5   \n",
       "Europe        Man     22780      5  Slightly satisfied  8185     23093      5   \n",
       "              Others    819      5      Very satisfied   280       865      5   \n",
       "              Woman    1419      5      Very satisfied   489      1449      5   \n",
       "North America Man     16346      5      Very satisfied  6523     16669      5   \n",
       "              Others    914      5      Very satisfied   315       974      5   \n",
       "              Woman    1676      5      Very satisfied   755      1726      5   \n",
       "Oceania       Man      1617      5      Very satisfied   582      1643      5   \n",
       "              Others     67      5      Very satisfied    21        76      5   \n",
       "              Woman     104      5      Very satisfied    39       106      5   \n",
       "South America Man      2395      5  Slightly satisfied   799      2457      5   \n",
       "              Others     51      5  Slightly satisfied    20        55      5   \n",
       "              Woman     127      5  Slightly satisfied    44       135      5   \n",
       "\n",
       "                                                \n",
       "                                     top  freq  \n",
       "Continent     Gender                            \n",
       "Africa        Man         Very satisfied   525  \n",
       "              Others      Very satisfied    18  \n",
       "              Woman       Very satisfied    38  \n",
       "Asia          Man     Slightly satisfied  4318  \n",
       "              Others      Very satisfied   268  \n",
       "              Woman   Slightly satisfied   269  \n",
       "Europe        Man         Very satisfied  8937  \n",
       "              Others  Slightly satisfied   319  \n",
       "              Woman       Very satisfied   583  \n",
       "North America Man         Very satisfied  8739  \n",
       "              Others      Very satisfied   418  \n",
       "              Woman       Very satisfied   877  \n",
       "Oceania       Man         Very satisfied   733  \n",
       "              Others      Very satisfied    27  \n",
       "              Woman   Slightly satisfied    43  \n",
       "South America Man         Very satisfied   872  \n",
       "              Others  Slightly satisfied    20  \n",
       "              Woman   Slightly satisfied    47  "
      ]
     },
     "execution_count": 39,
     "metadata": {},
     "output_type": "execute_result"
    }
   ],
   "source": [
    "#result\n",
    "job_career_sat.describe()"
   ]
  }
 ],
 "metadata": {
  "kernelspec": {
   "display_name": "Python 3 (ipykernel)",
   "language": "python",
   "name": "python3"
  },
  "language_info": {
   "codemirror_mode": {
    "name": "ipython",
    "version": 3
   },
   "file_extension": ".py",
   "mimetype": "text/x-python",
   "name": "python",
   "nbconvert_exporter": "python",
   "pygments_lexer": "ipython3",
   "version": "3.9.7"
  }
 },
 "nbformat": 4,
 "nbformat_minor": 5
}
